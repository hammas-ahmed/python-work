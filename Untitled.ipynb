{
 "cells": [
  {
   "cell_type": "markdown",
   "id": "1f80f373-75d5-4698-bede-4cd5eb462b98",
   "metadata": {},
   "source": [
    "# invitation"
   ]
  },
  {
   "cell_type": "code",
   "execution_count": 2,
   "id": "e74dbc96-59b6-4b1a-8820-7c449edcff44",
   "metadata": {},
   "outputs": [
    {
     "data": {
      "text/plain": [
       "['Anas', 'mansoor', 'abid']"
      ]
     },
     "execution_count": 2,
     "metadata": {},
     "output_type": "execute_result"
    }
   ],
   "source": [
    "guest = [\"Anas\",\"mansoor\",\"abid\"]\n",
    "guest"
   ]
  },
  {
   "cell_type": "code",
   "execution_count": 3,
   "id": "0b6981d6-6ac9-4de5-a970-662bc6b6753f",
   "metadata": {},
   "outputs": [
    {
     "name": "stdout",
     "output_type": "stream",
     "text": [
      "Anas Please come to dinner,\n",
      "mansoor Please come to dinner,\n",
      "abid Please come to dinner,\n"
     ]
    }
   ],
   "source": [
    "guest = [\"Anas\",\"mansoor\",\"abid\"]\n",
    "name = guest[0]  \n",
    "print (name + \" Please come to dinner,\")\n",
    "\n",
    "name = guest[1]  \n",
    "print (name + \" Please come to dinner,\")\n",
    "\n",
    "name = guest[2]  \n",
    "print (name + \" Please come to dinner,\")"
   ]
  },
  {
   "cell_type": "code",
   "execution_count": 4,
   "id": "fc5b7df8-31f1-4cd4-813b-cb33a319182f",
   "metadata": {},
   "outputs": [
    {
     "name": "stdout",
     "output_type": "stream",
     "text": [
      "Anas Please come to dinner,\n",
      "mansoor Please come to dinner,\n",
      "abid Please come to dinner,\n",
      "\n",
      "Anas Please come to dinner,\n",
      "mansoor u can't make it to dinner,\n",
      "abid Please come to dinner,\n"
     ]
    }
   ],
   "source": [
    "#4.1\n",
    "guest = [\"Anas\",\"mansoor\",\"abid\"]\n",
    "name = guest[0]  \n",
    "print (name + \" Please come to dinner,\")\n",
    "\n",
    "name = guest[1]  \n",
    "print (name + \" Please come to dinner,\")\n",
    "\n",
    "name = guest[2]  \n",
    "print (name + \" Please come to dinner,\")\n",
    "\n",
    "#4.2\n",
    "\n",
    "name = guest[0]  \n",
    "print (\"\\n\" + name + \" Please come to dinner,\")\n",
    "\n",
    "name = guest[1]  \n",
    "print (name + \" u can't make it to dinner,\")\n",
    "\n",
    "name = guest[2]  \n",
    "print (name + \" Please come to dinner,\")"
   ]
  },
  {
   "cell_type": "code",
   "execution_count": 5,
   "id": "2db7b8b4-7431-4b99-9f33-ae88609b7a1e",
   "metadata": {},
   "outputs": [
    {
     "data": {
      "text/plain": [
       "('suhail', 'kashif', 'raqib')"
      ]
     },
     "execution_count": 5,
     "metadata": {},
     "output_type": "execute_result"
    }
   ],
   "source": [
    "#4.3\n",
    "\n",
    "update_name = \"suhail\",\"kashif\",\"raqib\"\n",
    "update_name"
   ]
  },
  {
   "cell_type": "code",
   "execution_count": 6,
   "id": "709c3f0f-1b13-4a4c-bc49-a1d46488db7a",
   "metadata": {},
   "outputs": [
    {
     "name": "stdout",
     "output_type": "stream",
     "text": [
      "Anas Please come to dinner,\n",
      "mansoor Please come to dinner,\n",
      "abid Please come to dinner,\n",
      "\n",
      "Anas Please come to dinner,\n",
      "mansoor u can't make it to dinner,\n",
      "abid Please come to dinner,\n",
      "\n",
      "suhail please come to our dinner,\n",
      "\n",
      "kashif please come to our dinner,\n",
      "\n",
      "raqib please come to our dinner,\n"
     ]
    }
   ],
   "source": [
    "#4.1\n",
    "guest = [\"Anas\",\"mansoor\",\"abid\"]\n",
    "name = guest[0]  \n",
    "print (name + \" Please come to dinner,\")\n",
    "\n",
    "name = guest[1]  \n",
    "print (name + \" Please come to dinner,\")\n",
    "\n",
    "name = guest[2]  \n",
    "print (name + \" Please come to dinner,\")\n",
    "\n",
    "#4.2\n",
    "name = guest[0]  \n",
    "print (\"\\n\" + name + \" Please come to dinner,\")\n",
    "\n",
    "name = guest[1]  \n",
    "print (name + \" u can't make it to dinner,\")\n",
    "\n",
    "name = guest[2]  \n",
    "print (name + \" Please come to dinner,\")\n",
    "\n",
    "#4.3\n",
    "\n",
    "update_name = \"suhail\",\"kashif\",\"raqib\"\n",
    "update_name\n",
    "\n",
    "name = update_name[0]\n",
    "print(\"\\n\" + name + \" please come to our dinner,\")\n",
    "\n",
    "name = update_name[1]\n",
    "print(\"\\n\" + name + \" please come to our dinner,\")\n",
    "\n",
    "name = update_name[2]\n",
    "print(\"\\n\" + name + \" please come to our dinner,\")"
   ]
  },
  {
   "cell_type": "code",
   "execution_count": 7,
   "id": "4f9fbd73-a008-4997-bc57-444f8824426d",
   "metadata": {},
   "outputs": [
    {
     "name": "stdout",
     "output_type": "stream",
     "text": [
      "Anas Please come to dinner,\n",
      "mansoor Please come to dinner,\n",
      "abid Please come to dinner,\n",
      "\n",
      "Anas Please come to dinner,\n",
      "mansoor u can't make it to dinner,\n",
      "abid Please come to dinner,\n",
      "\n",
      "suhail please come to our dinner,\n",
      "\n",
      "kashif please come to our dinner,\n",
      "\n",
      "raqib please come to our dinner,\n"
     ]
    },
    {
     "data": {
      "text/plain": [
       "['Anas', 'mansoor', 'abid']"
      ]
     },
     "execution_count": 7,
     "metadata": {},
     "output_type": "execute_result"
    }
   ],
   "source": [
    "#4.1\n",
    "guest = [\"Anas\",\"mansoor\",\"abid\"]\n",
    "name = guest[0]  \n",
    "print (name + \" Please come to dinner,\")\n",
    "\n",
    "name = guest[1]  \n",
    "print (name + \" Please come to dinner,\")\n",
    "\n",
    "name = guest[2]  \n",
    "print (name + \" Please come to dinner,\")\n",
    "\n",
    "#4.2\n",
    "name = guest[0]  \n",
    "print (\"\\n\" + name + \" Please come to dinner,\")\n",
    "\n",
    "name = guest[1]  \n",
    "print (name + \" u can't make it to dinner,\")\n",
    "\n",
    "name = guest[2]  \n",
    "print (name + \" Please come to dinner,\")\n",
    "\n",
    "#4.3\n",
    "\n",
    "update_name = \"suhail\",\"kashif\",\"raqib\"\n",
    "update_name\n",
    "\n",
    "name = update_name[0]\n",
    "print(\"\\n\" + name + \" please come to our dinner,\")\n",
    "\n",
    "name = update_name[1]\n",
    "print(\"\\n\" + name + \" please come to our dinner,\")\n",
    "\n",
    "name = update_name[2]\n",
    "print(\"\\n\" + name + \" please come to our dinner,\")\n",
    "\n",
    "guest"
   ]
  },
  {
   "cell_type": "code",
   "execution_count": 8,
   "id": "0492efbd-876c-4982-8257-5f8ac1023615",
   "metadata": {},
   "outputs": [
    {
     "name": "stdout",
     "output_type": "stream",
     "text": [
      "Anas Please come to dinner,\n",
      "mansoor Please come to dinner,\n",
      "abid Please come to dinner,\n",
      "\n",
      "Anas Please come to dinner,\n",
      "mansoor u can't make it to dinner,\n",
      "abid Please come to dinner,\n",
      "\n",
      "suhail please come to our dinner,\n",
      "\n",
      "kashif please come to our dinner,\n",
      "\n",
      "raqib please come to our dinner,\n",
      "\n",
      " new table arranged \n"
     ]
    },
    {
     "data": {
      "text/plain": [
       "['zaid', 'Anas', 'nasrullah', 'mansoor', 'abid', 'khalid']"
      ]
     },
     "execution_count": 8,
     "metadata": {},
     "output_type": "execute_result"
    }
   ],
   "source": [
    "#4.1\n",
    "guest = [\"Anas\",\"mansoor\",\"abid\"]\n",
    "name = guest[0]  \n",
    "print (name + \" Please come to dinner,\")\n",
    "\n",
    "name = guest[1]  \n",
    "print (name + \" Please come to dinner,\")\n",
    "\n",
    "name = guest[2]  \n",
    "print (name + \" Please come to dinner,\")\n",
    "\n",
    "#4.2\n",
    "name = guest[0]  \n",
    "print (\"\\n\" + name + \" Please come to dinner,\")\n",
    "\n",
    "name = guest[1]  \n",
    "print (name + \" u can't make it to dinner,\")\n",
    "\n",
    "name = guest[2]  \n",
    "print (name + \" Please come to dinner,\")\n",
    "\n",
    "#4.3\n",
    "\n",
    "update_name = \"suhail\",\"kashif\",\"raqib\"\n",
    "update_name\n",
    "\n",
    "name = update_name[0]\n",
    "print(\"\\n\" + name + \" please come to our dinner,\")\n",
    "\n",
    "name = update_name[1]\n",
    "print(\"\\n\" + name + \" please come to our dinner,\")\n",
    "\n",
    "name = update_name[2]\n",
    "print(\"\\n\" + name + \" please come to our dinner,\")\n",
    "\n",
    "\n",
    "print(\"\\n new table arranged \")\n",
    "guest.insert(0, \"zaid\")\n",
    "guest.insert(2, \"nasrullah\")\n",
    "guest.append(\"khalid\")\n",
    "\n",
    "\n",
    "\n",
    "guest\n",
    "\n",
    "\n",
    "    "
   ]
  },
  {
   "cell_type": "code",
   "execution_count": 9,
   "id": "ee4c4706-e99a-4257-bd3a-46e0b66575a5",
   "metadata": {},
   "outputs": [
    {
     "name": "stdout",
     "output_type": "stream",
     "text": [
      "zaid Please come to dinner,\n",
      "Anas Please come to dinner,\n",
      "nasrullah Please come to dinner,\n",
      "mansoor Please come to dinner,\n",
      "abid Please come to dinner,\n",
      "khalid Please come to dinner,\n",
      "\n",
      " Sorry friends, only two people space \n"
     ]
    }
   ],
   "source": [
    "#4.3\n",
    "name = guest[0]  \n",
    "print (name + \" Please come to dinner,\")\n",
    "\n",
    "name = guest[1]  \n",
    "print (name + \" Please come to dinner,\")\n",
    "\n",
    "name = guest[2]  \n",
    "print (name + \" Please come to dinner,\")\n",
    "\n",
    "name = guest[3]  \n",
    "print (name + \" Please come to dinner,\")\n",
    "\n",
    "name = guest[4]  \n",
    "print (name + \" Please come to dinner,\")\n",
    "\n",
    "name = guest[5]  \n",
    "print (name + \" Please come to dinner,\")\n",
    "\n",
    "print(\"\\n Sorry friends, only two people space \")"
   ]
  },
  {
   "cell_type": "code",
   "execution_count": 13,
   "id": "d233986c-d0c0-42dd-8052-9fdb531a2dbd",
   "metadata": {},
   "outputs": [
    {
     "name": "stdout",
     "output_type": "stream",
     "text": [
      "zaid Please come to dinner,\n",
      "Anas Please come to dinner,\n",
      "nasrullah Please come to dinner,\n",
      "mansoor Please come to dinner,\n",
      "abid Please come to dinner,\n",
      "khalid Please come to dinner,\n",
      "\n",
      " Sorry friends, only two people space \n",
      "zaid Please come to dinner,\n",
      "Anas Please come to dinner,\n",
      "khalid Please can't join for my friends,\n",
      "abid Please can't join for my friends,\n",
      "mansoor Please can't join for my friends,\n",
      "nasrullah Please can't join for my friends,\n"
     ]
    }
   ],
   "source": [
    "#4.3\n",
    "name = guest[0]  \n",
    "print (name + \" Please come to dinner,\")\n",
    "\n",
    "name = guest[1]  \n",
    "print (name + \" Please come to dinner,\")\n",
    "\n",
    "name = guest[2]  \n",
    "print (name + \" Please come to dinner,\")\n",
    "\n",
    "name = guest[3]  \n",
    "print (name + \" Please come to dinner,\")\n",
    "\n",
    "name = guest[4]  \n",
    "print (name + \" Please come to dinner,\")\n",
    "\n",
    "name = guest[5]  \n",
    "print (name + \" Please come to dinner,\")\n",
    "\n",
    "print(\"\\n Sorry friends, only two people space \")\n",
    "\n",
    "#4.4\n",
    "\n",
    "name = guest[0]  \n",
    "print (name + \" Please come to dinner,\")\n",
    "\n",
    "name = guest[1]  \n",
    "print (name + \" Please come to dinner,\")\n",
    "\n",
    "name = guest.pop()  \n",
    "print (name + \" Please can't join for my friends,\")\n",
    "\n",
    "name = guest.pop()  \n",
    "print (name + \" Please can't join for my friends,\")\n",
    "\n",
    "name = guest.pop()  \n",
    "print (name + \" Please can't join for my friends,\")\n",
    "\n",
    "name = guest.pop()  \n",
    "print (name + \" Please can't join for my friends,\")\n",
    "\n"
   ]
  },
  {
   "cell_type": "code",
   "execution_count": 15,
   "id": "2b45127c-4472-4394-9205-e6e01262efa5",
   "metadata": {},
   "outputs": [
    {
     "data": {
      "text/plain": [
       "['zaid', 'Anas']"
      ]
     },
     "execution_count": 15,
     "metadata": {},
     "output_type": "execute_result"
    }
   ],
   "source": [
    "guest"
   ]
  },
  {
   "cell_type": "code",
   "execution_count": null,
   "id": "9c92e1ce-1baa-446f-8670-ee88ef2788db",
   "metadata": {},
   "outputs": [],
   "source": []
  }
 ],
 "metadata": {
  "kernelspec": {
   "display_name": "Python 3 (ipykernel)",
   "language": "python",
   "name": "python3"
  },
  "language_info": {
   "codemirror_mode": {
    "name": "ipython",
    "version": 3
   },
   "file_extension": ".py",
   "mimetype": "text/x-python",
   "name": "python",
   "nbconvert_exporter": "python",
   "pygments_lexer": "ipython3",
   "version": "3.12.4"
  }
 },
 "nbformat": 4,
 "nbformat_minor": 5
}
